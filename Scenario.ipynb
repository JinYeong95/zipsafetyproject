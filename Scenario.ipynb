{
 "cells": [
  {
   "cell_type": "code",
   "execution_count": 1,
   "id": "4594eedc-fc22-4e01-8299-0ed6d3d94325",
   "metadata": {
    "scrolled": true
   },
   "outputs": [],
   "source": [
    "import cv2\n",
    "import random\n",
    "import shutil\n",
    "import os\n",
    "import detect"
   ]
  },
  {
   "cell_type": "code",
   "execution_count": 3,
   "id": "a04d5e13-54d1-4375-9187-994e58cd3477",
   "metadata": {},
   "outputs": [],
   "source": [
    "if not os.path.exists('test_image'):\n",
    "    os.makedirs('test_image')"
   ]
  },
  {
   "cell_type": "code",
   "execution_count": 4,
   "id": "56e982c6-b67d-4240-83e4-a34c6b404d6c",
   "metadata": {},
   "outputs": [
    {
     "name": "stdout",
     "output_type": "stream",
     "text": [
      "frame_0.jpg 파일이 저장 되었습니다.\n",
      "frame_30.jpg 파일이 저장 되었습니다.\n",
      "frame_60.jpg 파일이 저장 되었습니다.\n",
      "frame_90.jpg 파일이 저장 되었습니다.\n",
      "frame_120.jpg 파일이 저장 되었습니다.\n",
      "frame_150.jpg 파일이 저장 되었습니다.\n",
      "frame_180.jpg 파일이 저장 되었습니다.\n",
      "frame_210.jpg 파일이 저장 되었습니다.\n",
      "frame_240.jpg 파일이 저장 되었습니다.\n",
      "frame_270.jpg 파일이 저장 되었습니다.\n",
      "데이터 수집 종료 총 10개의 사진이 들어갔습니다.\n"
     ]
    }
   ],
   "source": [
    "cap = cv2.VideoCapture(0)\n",
    "frame_count = 0\n",
    "saved_image_count = 0  # 추가된 변수\n",
    "\n",
    "while True:\n",
    "    ret, frame = cap.read()\n",
    "\n",
    "    if ret:\n",
    "        cv2.imshow('Camera', frame)\n",
    "\n",
    "    if cv2.waitKey(1) & 0xFF == ord('q'):\n",
    "        break\n",
    "\n",
    "    if frame_count % 30 == 0:\n",
    "        file_name = f\"test_image/frame_{frame_count}.jpg\"\n",
    "        cv2.imwrite(file_name, frame)\n",
    "        print(f'frame_{frame_count}.jpg 파일이 저장 되었습니다.')\n",
    "        saved_image_count += 1  # 이미지 저장 시 카운트 증가\n",
    "\n",
    "    if saved_image_count == 10:  # 이미지 개수가 10개이면 종료\n",
    "        print(f'데이터 수집 종료 총 {saved_image_count}개의 사진이 들어갔습니다.')\n",
    "        break\n",
    "    \n",
    "    frame_count += 1\n",
    "\n",
    "cap.release()\n",
    "cv2.destroyAllWindows()"
   ]
  },
  {
   "cell_type": "code",
   "execution_count": 7,
   "id": "df1c1cdf-c098-4a7d-ba36-fb7ff3ff84e0",
   "metadata": {},
   "outputs": [
    {
     "name": "stderr",
     "output_type": "stream",
     "text": [
      "YOLOv5  v7.0-210-gdd10481 Python-3.10.11 torch-2.0.1+cpu CPU\n",
      "\n",
      "Fusing layers... \n",
      "Model summary: 157 layers, 7020913 parameters, 0 gradients, 15.8 GFLOPs\n",
      "image 1/10 C:\\Users\\82107\\Desktop\\Assign2\\yolov5\\test_image\\frame_0.jpg: 480x640 1 on_helmet, 147.1ms\n",
      "image 2/10 C:\\Users\\82107\\Desktop\\Assign2\\yolov5\\test_image\\frame_120.jpg: 480x640 1 off_harness, 1 on_helmet, 138.7ms\n",
      "image 3/10 C:\\Users\\82107\\Desktop\\Assign2\\yolov5\\test_image\\frame_150.jpg: 480x640 (no detections), 147.6ms\n",
      "image 4/10 C:\\Users\\82107\\Desktop\\Assign2\\yolov5\\test_image\\frame_180.jpg: 480x640 1 on_helmet, 153.5ms\n",
      "image 5/10 C:\\Users\\82107\\Desktop\\Assign2\\yolov5\\test_image\\frame_210.jpg: 480x640 1 on_helmet, 154.8ms\n",
      "image 6/10 C:\\Users\\82107\\Desktop\\Assign2\\yolov5\\test_image\\frame_240.jpg: 480x640 1 on_helmet, 152.5ms\n",
      "image 7/10 C:\\Users\\82107\\Desktop\\Assign2\\yolov5\\test_image\\frame_270.jpg: 480x640 1 on_helmet, 141.4ms\n",
      "image 8/10 C:\\Users\\82107\\Desktop\\Assign2\\yolov5\\test_image\\frame_30.jpg: 480x640 1 on_helmet, 155.9ms\n",
      "image 9/10 C:\\Users\\82107\\Desktop\\Assign2\\yolov5\\test_image\\frame_60.jpg: 480x640 1 on_helmet, 153.1ms\n",
      "image 10/10 C:\\Users\\82107\\Desktop\\Assign2\\yolov5\\test_image\\frame_90.jpg: 480x640 1 on_helmet, 148.7ms\n",
      "Speed: 0.5ms pre-process, 149.3ms inference, 0.5ms NMS per image at shape (1, 3, 640, 640)\n",
      "Results saved to \u001b[1mruns\\detect\\exp18\u001b[0m\n"
     ]
    },
    {
     "name": "stdout",
     "output_type": "stream",
     "text": [
      "233줄 [1, 2, 0, 1, 1, 1, 1, 1, 1, 1]\n",
      "a의 결과는 [1, 2, 0, 1, 1, 1, 1, 1, 1, 1]입니다.\n",
      "안전모 인증은 8번 나왔고 하네스 인증은 0번 나왔기 때문에 기준에 충족하지 못했습니다.\n"
     ]
    }
   ],
   "source": [
    "import detect\n",
    "result = []\n",
    "a = detect.run(weights='./best.pt', source='./test_image')\n",
    "result.append(a)\n",
    "print(f'a의 결과는 {a}입니다.')\n",
    "hat = a.count(1)\n",
    "belt = a.count(3)\n",
    "if hat >= 5 and belt >=5 :\n",
    "    print('출근 가능')\n",
    "else:\n",
    "    print(f'안전모 인증은 {hat}번 나왔고 하네스 인증은 {belt}번 나왔기 때문에 기준에 충족하지 못하여 출근하지 못합니다.')"
   ]
  },
  {
   "cell_type": "code",
   "execution_count": null,
   "id": "94096b37-3abf-45fe-9130-0ef2701e7f26",
   "metadata": {},
   "outputs": [],
   "source": []
  }
 ],
 "metadata": {
  "kernelspec": {
   "display_name": "Python 3 (ipykernel)",
   "language": "python",
   "name": "python3"
  },
  "language_info": {
   "codemirror_mode": {
    "name": "ipython",
    "version": 3
   },
   "file_extension": ".py",
   "mimetype": "text/x-python",
   "name": "python",
   "nbconvert_exporter": "python",
   "pygments_lexer": "ipython3",
   "version": "3.10.11"
  }
 },
 "nbformat": 4,
 "nbformat_minor": 5
}
